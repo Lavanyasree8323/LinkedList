{
 "cells": [
  {
   "cell_type": "code",
   "execution_count": null,
   "metadata": {},
   "outputs": [],
   "source": [
    "# Creating a empty Linked list\n",
    "li=[]\n",
    "# add some string type elements to the list\n",
    "li.append('Artho')\n",
    "li.append('Noodles')\n",
    "li.append('Paani puri')\n",
    "li.append('Mushroom')\n",
    "# display the list\n",
    "print('The existin list',li)\n",
    "# display the Linked list elements using the menu\n",
    "choice=0\n",
    "while choice <5:\n",
    "    print('LINKED LIST OPERATIONS')\n",
    "    print('1. Insert element')\n",
    "    print('2. Remove element')\n",
    "    print('3. Replace element')\n",
    "    print('4. Search for element')\n",
    "    print('5. Exit')\n",
    "    choice=int(input('Enter your choice:'))\n",
    "    # Perform task depending on user choice\n",
    "    if choice==1:\n",
    "        element=input('Entert the element to be inserted:')\n",
    "        pos=int(input('At which position?:'))\n",
    "        li.insert(pos,element)\n",
    "    elif choice==2:\n",
    "        try:\n",
    "            element=input('Enter the element to be removed:')\n",
    "            li.remove(element)\n",
    "        except ValueError:\n",
    "            print('Element not found')\n",
    "    elif choice==3:\n",
    "        element=input('Enter the new element to be replaced:')\n",
    "        pos=int(input('At which position?:'))\n",
    "        li.pop(pos)\n",
    "        li.insert(pos,element)\n",
    "    elif choice==4:\n",
    "        element=input('Enter the to be searched:')\n",
    "        try:\n",
    "            pos=li.index(element)\n",
    "            print('Element found at the posiion:',pos)\n",
    "        except ValueError:\n",
    "            print('Element not found')\n",
    "    else:\n",
    "        break\n",
    "    \n",
    "# Display the list elements\n",
    "print('List:',li)"
   ]
  }
 ],
 "metadata": {
  "language_info": {
   "name": "python"
  }
 },
 "nbformat": 4,
 "nbformat_minor": 2
}
